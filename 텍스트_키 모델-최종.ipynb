{
 "cells": [
  {
   "cell_type": "markdown",
   "id": "da6ebe89",
   "metadata": {},
   "source": [
    "# 플라스크 임포트  "
   ]
  },
  {
   "cell_type": "code",
   "execution_count": 1,
   "id": "febaccbf",
   "metadata": {},
   "outputs": [
    {
     "name": "stdout",
     "output_type": "stream",
     "text": [
      "Requirement already satisfied: PyMySQL in c:\\users\\smhrd\\anaconda3\\lib\\site-packages (1.0.2)\n"
     ]
    }
   ],
   "source": [
    "!pip install PyMySQL"
   ]
  },
  {
   "cell_type": "code",
   "execution_count": 2,
   "id": "0fe82558",
   "metadata": {},
   "outputs": [],
   "source": [
    "from flask import Flask\n",
    "from flask import redirect, request , jsonify\n",
    "from flask_cors import CORS\n",
    "import pandas as pd\n",
    "import pickle\n",
    "from konlpy.tag import Okt, Kkma\n",
    "okt = Okt()\n",
    "from sklearn.feature_extraction.text import CountVectorizer\n",
    "\n",
    "import numpy as np\n",
    "from tensorflow.keras.preprocessing.sequence import pad_sequences\n",
    "from tensorflow.keras.models import load_model\n",
    "import pymysql"
   ]
  },
  {
   "cell_type": "markdown",
   "id": "c381046b",
   "metadata": {},
   "source": [
    "# PymySQL"
   ]
  },
  {
   "cell_type": "code",
   "execution_count": 3,
   "id": "e6d32177",
   "metadata": {},
   "outputs": [],
   "source": [
    "import pymysql"
   ]
  },
  {
   "cell_type": "code",
   "execution_count": 4,
   "id": "0dee3f8e",
   "metadata": {},
   "outputs": [
    {
     "data": {
      "text/plain": [
       "<pymysql.connections.Connection at 0x149b452aac0>"
      ]
     },
     "execution_count": 4,
     "metadata": {},
     "output_type": "execute_result"
    }
   ],
   "source": [
    "db = pymysql.connect(host = 'project-db-stu.ddns.net', port = 3307, user= 'dodam',\n",
    "                    passwd='115', db='dodam', charset='utf8')\n",
    "db"
   ]
  },
  {
   "cell_type": "code",
   "execution_count": 5,
   "id": "2e7a29e2",
   "metadata": {},
   "outputs": [
    {
     "data": {
      "text/plain": [
       "<pymysql.cursors.DictCursor at 0x149b4570340>"
      ]
     },
     "execution_count": 5,
     "metadata": {},
     "output_type": "execute_result"
    }
   ],
   "source": [
    "cursor = db.cursor(pymysql.cursors.DictCursor)\n",
    "cursor"
   ]
  },
  {
   "cell_type": "code",
   "execution_count": 6,
   "id": "5ef6e777",
   "metadata": {
    "scrolled": true
   },
   "outputs": [
    {
     "data": {
      "text/plain": [
       "[{'d_seq': 105,\n",
       "  'm_id': 'admin',\n",
       "  'c_seq': 1,\n",
       "  'd_title': 'dsf',\n",
       "  'd_content': '기뻐 슬퍼 우울해 화나 짱나 ',\n",
       "  'd_msg': 'ㄴㅇㄹ',\n",
       "  'd_date': datetime.date(2022, 4, 20)},\n",
       " {'d_seq': 110,\n",
       "  'm_id': 'admin',\n",
       "  'c_seq': 1,\n",
       "  'd_title': 'ㅇㄴㄹ',\n",
       "  'd_content': 'ㄴㅇㄹㅇㄴ',\n",
       "  'd_msg': 'ㄴㅇㄹ',\n",
       "  'd_date': datetime.date(2022, 4, 21)},\n",
       " {'d_seq': 111,\n",
       "  'm_id': 'admin',\n",
       "  'c_seq': 1,\n",
       "  'd_title': 'ㄴㅇㄹㄴㅇ',\n",
       "  'd_content': 'ㄴㅇㄹㄴㅇ',\n",
       "  'd_msg': 'ㄴㅇㄹㄴㅇ',\n",
       "  'd_date': datetime.date(2022, 4, 22)},\n",
       " {'d_seq': 112,\n",
       "  'm_id': 'test12',\n",
       "  'c_seq': 18,\n",
       "  'd_title': '나들이 간 날 ',\n",
       "  'd_content': '오늘은 성준이와 봄 나들이를 갔다 ~ 바람이 살랑살랑 불어 기분이 너무 좋아\\r\\n성준이도 기분이 좋아보였다. \\r\\n',\n",
       "  'd_msg': '너의 미소 아빠가 지켜줄게 !',\n",
       "  'd_date': datetime.date(2022, 4, 1)},\n",
       " {'d_seq': 113,\n",
       "  'm_id': 'test12',\n",
       "  'c_seq': 18,\n",
       "  'd_title': '성준이 싸운 날 ',\n",
       "  'd_content': '오늘은 성준이가 옆집 성훈이와 싸움을 했다.\\r\\n성훈이의 장난감을 뺏으려는 성준이, 결국 옆집 아이를 울리고 말았다.\\r\\n성준이도 미안한지 같이 울었다. ',\n",
       "  'd_msg': '아빠가 장난감 사줄게 다른 아이거 뺏으면 안된단다. ',\n",
       "  'd_date': datetime.date(2022, 4, 2)},\n",
       " {'d_seq': 114,\n",
       "  'm_id': 'test1234',\n",
       "  'c_seq': 19,\n",
       "  'd_title': '성준이와 나들이 ',\n",
       "  'd_content': '오늘 같이 바람이 살랑살랑 불어 좋은 날 나들이를 왔는데\\r\\n성준이는 뭐가 맘에 안드는지 하루 종일 찡얼거리고 짜증을 냈다.\\r\\n',\n",
       "  'd_msg': '성준아 기분이 많이 안좋았니???',\n",
       "  'd_date': datetime.date(2022, 4, 2)},\n",
       " {'d_seq': 115,\n",
       "  'm_id': 'test1234',\n",
       "  'c_seq': 19,\n",
       "  'd_title': ' 생일축하해',\n",
       "  'd_content': '친구들과 바자마파티 시끌시끌 7명의 친구들과 씬나게 놀았니 아침먹여보냈는데 다들 순수하고 착하더구나 새벽일은 진짜 놀랬다ㅜㅜ친구들오면 엄마가책임져야하는데 그래도 얘기해쥐서 고마워 엘베안에 아빠출근하다 멈처 곤란했고 11명의 아침 후다닥 준비\\r\\n엄마에게는 큰숙제야 2주전부터 이불하나씩빨고 무얼 준비해줘야하나 하나하나 체크하고 널 믿고 잠들었지\\r\\n사실 넌 든든한게있어 엄마의 성격을 너무 빼박~? 다른건 엄마는 두분이바쁘식 나이도많으셨어 혼자 스스로 다 했다는게 다르지 책임감 스스로 해결해야했으니깐\\r\\n우리딸은 그렇게 외롭고 힘들게 안키우려고 노력했더니 다른문제가 생기는 것 같아\\r\\n니가 엄마를 오해하는게 많다는 점\\r\\n서로겠지만 나도 니 마음을 다 알수는없으니 짐작만하지\\r\\n요즘 널보면 옛날일들이 생각나~\\r\\n친구를 좋아했던만큼 소유욕도 생겨서\\r\\n서로 상처주는 일들도 있었고 그시기에 남는건 친구같아^^ 좋은친구를 만나는것도 너의 분위기같아 항상 조심하고 순수하고 사랑스러운 너의 모습을 지켜주고싶구나\\r\\n아직은 아기같은 우리딸\\r\\n엄마 아빠가 항상 옆에있어줄게\\r\\n많이많이 사랑해~\\r\\n바른길로 가도록 옆에서 최대한 도와주고 기도해줄게 항상 노력하고 최선을다하자\\r\\n후회없이 지난날들은 살 수 있게',\n",
       "  'd_msg': '\\r\\n\"웃어라 웃으면 온세상이 함께 웃을거다~!\"',\n",
       "  'd_date': datetime.date(2022, 4, 3)},\n",
       " {'d_seq': 116,\n",
       "  'm_id': 'test1234',\n",
       "  'c_seq': 19,\n",
       "  'd_title': ' 엄마도 엄마가 처음이라...',\n",
       "  'd_content': '\\r\\n\\r\\n오늘 우리 성준이 모습♡\\r\\n그새 많이 컸네. 귀엽고 사랑스러운 엄마 아들!\\r\\n\\r\\n엄마는 몇일간 모유수유를 하고 다시 엄마방에 올라와 유축도 하고...\\r\\n\\r\\n그러길 반복했더니\\r\\n어제 오후부터 엄마 목이 고장이 났지 뭐야.\\r\\n목이 오른쪽으로 돌아가지 않더라구.\\r\\n엄마도 엄마가 처음이라 모유수유 자세와 유축자세가 엉망이었어.\\r\\n\\r\\n매일 산후 마사지를 받는터라 관리사님께 말을 하고 목을 집중케어 받고 나니 조금 나아.\\r\\n\\r\\n조리원 총괄 실장님에게 말씀드렸더니 이틀정도는 수유콜 받지말고 쉬라셨어.\\r\\n엄마는 나도 모르게 눈물이 와락 났어.\\r\\n우리 성준이한테 너무 미안해서...\\r\\n\\r\\n실장님이 달래주셨는데 막상 방에 올라와 생각하니\\r\\n엄마가 극성이었나 싶어서 민망하기도 했어.\\r\\n그렇지만 뭐 어때. 그게 엄마 마음인걸~\\r\\n\\r\\n미안해 성준아.\\r\\n그래도 열심히 유축해서 엄마 모유 가져다 줄께.\\r\\n선생님들이 잘 먹여주실꺼야.',\n",
       "  'd_msg': '\\r\\n지금은 밤이야.\\r\\n우리 아들은 뭐하고 있을까?\\r\\n목욕하고 잠들었을까?',\n",
       "  'd_date': datetime.date(2022, 4, 4)},\n",
       " {'d_seq': 117,\n",
       "  'm_id': 'test1234',\n",
       "  'c_seq': 19,\n",
       "  'd_title': ' 삐쭉삐쭉 사랑스런 김성준^^',\n",
       "  'd_content': '\\r\\n성준야~엄마의 모유를 잘먹고 배냇짓으로 잘 웃기도 하지만 요렇게 삐죽거리기도 한단다^^\\r\\n그 모습이 얼마나 사랑스러운지 성준는 모를꺼야..\\r\\n세상 무엇과도 바꿀 수 없는 우리 아들~\\r\\n엄마는 너를 위해 하루하루 최선을 다하고 있단다!\\r\\n우리 성준도 그만큼 건강하게 잘 커주기를 바래.\\r\\n올해는 아빠 엄마와 같이 벚꽃구경을 못 가지만 내년에는 아빠의 무등을 타고 함께 벚꽃구경도하고, 산책도 가자꾸나♡\\r\\n사랑하는 최성준를 아빠 다음으로 만나서 엄마는 하루하루 너무 행복한 여자가 되고있어.\\r\\n이렇게 큰 성준가 엄마뱃속에서 열달동안 있었구나 싶기도하구^^\\r\\n작디작은손으로 엄마 손가락 꼭잡아줘서 고맙고, 별탈없이 또 커줘서 고맙구, 모든지 감사한 하루를 선사해줘서 고맙다!\\r\\n',\n",
       "  'd_msg': '\\r\\n사랑한다 아들^^',\n",
       "  'd_date': datetime.date(2022, 4, 5)},\n",
       " {'d_seq': 118,\n",
       "  'm_id': 'test1234',\n",
       "  'c_seq': 19,\n",
       "  'd_title': ' 활짝웃는 너의 얼굴에 언제나 심쿵',\n",
       "  'd_content': '\\r\\n오늘은 아침부터 부지런을 떨며 예방접종!\\r\\n지난밤 내가 혹시 코로나일까봐 걱정하느라 잠을 1시간정도 잤을까 비몽사몽으로 병원에갔다!\\r\\n우리애기는 으앙 한번 울고는 주사도 씩씩하게 잘맞고 돌아왔고\\r\\n난 신속항원검사결과 음성이었다(하지만긴장의끈을 놓칠수는 없지ㅜ 마스크 벗지말자ㅜ )\\r\\n집에와서도 컨디션 짱짱 최고로 열심히 몸도 들어올리고 꺄르르 잘도 웃고! 아빠랑 세상즐거운 시간보내는동안 엄마는 낮잠타임도 가지고! 컨디션회복!\\r\\n하지만 아빠가 취침 후 평소같으면 바로 잠들시간임에도 찡얼거리고 힘들어하길래 열을재봤더니 38.1도\\r\\n바로 옷 벗기고 기저기 살짝열고 물수건을 목에도두르고 겨드랑이에도 대줬다! 다행히 잠도들고 몇번 더 열을재봤는데 수월하게 열이 잘떨어져서 어찌나 감사한지!\\r\\n',\n",
       "  'd_msg': '\\r\\n언제나 건강하자 성준아! 오늘도 사랑해',\n",
       "  'd_date': datetime.date(2022, 4, 6)},\n",
       " {'d_seq': 119,\n",
       "  'm_id': 'test8',\n",
       "  'c_seq': 21,\n",
       "  'd_title': '오늘은 기분 좋은 나들이 날 ',\n",
       "  'd_content': '날씨가 좋아 성준이와 나들이를 왔다. \\r\\n한 손에 솜사탕을 들고 좋아하는 성준이 너가 웃으면 아빠도 좋단다. ',\n",
       "  'd_msg': '아빠가 성준이 미소 계속 지켜줄게 ',\n",
       "  'd_date': datetime.date(2022, 4, 1)},\n",
       " {'d_seq': 120,\n",
       "  'm_id': 'test8',\n",
       "  'c_seq': 21,\n",
       "  'd_title': ' 일상으로',\n",
       "  'd_content': '\\r\\n날씨가 춥다.. 여전히 겨울인건가? 오전에만 바쁜\\r\\n월요일.. 수업들으러ㄱㄱ\\r\\n오늘따라 선생님 따라서 잘 들어가는 성준이..\\r\\n오잉? 왜이리 고분고분하지? 웃는소리가 밖에까지 들린다. 기분이 많이 좋은듯하다..\\r\\n수업종료. 성준이가 선생님 지도에 굉장히 잘 따라주었고 진도도 수월하게 진행되었다고 하신다..\\r\\n하지만 그간에 수업이 미루어지다보니 놀이가 다시 단조롭게 변한것이 흠.. 다시금 수업을 잘 진행해서\\r\\n컨디션을 끌어올려야 한다고 하신다..',\n",
       "  'd_msg': '흐음.. 열심히 해야한다.. 우리..',\n",
       "  'd_date': datetime.date(2022, 4, 2)},\n",
       " {'d_seq': 121,\n",
       "  'm_id': 'test8',\n",
       "  'c_seq': 21,\n",
       "  'd_title': 'ㄴㅇㄹ',\n",
       "  'd_content': '화나 신나 즐거워 슬퍼 ',\n",
       "  'd_msg': 'ㄴㅇㄹ',\n",
       "  'd_date': datetime.date(2022, 4, 8)},\n",
       " {'d_seq': 122,\n",
       "  'm_id': 'test8',\n",
       "  'c_seq': 21,\n",
       "  'd_title': 'ㄴㅇㄹ',\n",
       "  'd_content': '정말 좋아 정말 싫어 화나 짜증나 ',\n",
       "  'd_msg': 'ㄴㅇㄹ',\n",
       "  'd_date': datetime.date(2022, 4, 9)},\n",
       " {'d_seq': 123,\n",
       "  'm_id': 'test8',\n",
       "  'c_seq': 21,\n",
       "  'd_title': 'ㄴㅇㄹ',\n",
       "  'd_content': '기분 좋아 웃어 웃자 웃었네 화나 신나 슬퍼 무서워 힘들어 괴로워 ',\n",
       "  'd_msg': 'ㄴㅇㄹ',\n",
       "  'd_date': datetime.date(2022, 4, 15)},\n",
       " {'d_seq': 126,\n",
       "  'm_id': 'test8',\n",
       "  'c_seq': 21,\n",
       "  'd_title': 'ㅇㄴㄹ',\n",
       "  'd_content': '화나 슬퍼 괴로워 힘들어 정말 좋아 웃자 웃어 행복해 ',\n",
       "  'd_msg': 'ㄴㅇㄹ',\n",
       "  'd_date': datetime.date(2022, 4, 16)}]"
      ]
     },
     "execution_count": 6,
     "metadata": {},
     "output_type": "execute_result"
    }
   ],
   "source": [
    "sql = \"SELECT * FROM `t_diary`;\"\n",
    "cursor.execute(sql)\n",
    "result = cursor.fetchall()\n",
    "result"
   ]
  },
  {
   "cell_type": "code",
   "execution_count": 7,
   "id": "0c439881",
   "metadata": {},
   "outputs": [],
   "source": [
    "def myTokenizer2(text):\n",
    "    d = pd.DataFrame(okt.pos(text, norm=True, stem=True), columns=['morph','tag'])\n",
    "    d.set_index('tag', inplace=True)\n",
    "    if ('Noun' in d.index) | ('Verb' in d.index) | ('Adjective' in d.index):\n",
    "        labels = ['Noun','Verb','Adjective']\n",
    "        return d.loc[d.index.intersection(labels)].dropna()['morph'].values\n",
    "    else :\n",
    "        return []"
   ]
  },
  {
   "cell_type": "code",
   "execution_count": 8,
   "id": "b99fc295",
   "metadata": {},
   "outputs": [],
   "source": [
    "def height_predict(model, input_height, n=72):\n",
    "    max_len = 72\n",
    "    for _ in range(len(input_height),n):# n번 반복\n",
    "        encoded = pad_sequences(input_height, maxlen=max_len-1, padding='pre',dtype='float32').reshape(71,-1)\n",
    "        result = model.predict([encoded.tolist()],verbose=0)\n",
    "        input_height = np.hstack([input_height,result])\n",
    "    return input_height"
   ]
  },
  {
   "cell_type": "code",
   "execution_count": null,
   "id": "0ec58c92",
   "metadata": {},
   "outputs": [
    {
     "name": "stdout",
     "output_type": "stream",
     "text": [
      " * Serving Flask app \"__main__\" (lazy loading)\n",
      " * Environment: production\n",
      "\u001b[31m   WARNING: This is a development server. Do not use it in a production deployment.\u001b[0m\n",
      "\u001b[2m   Use a production WSGI server instead.\u001b[0m\n",
      " * Debug mode: off\n"
     ]
    },
    {
     "name": "stderr",
     "output_type": "stream",
     "text": [
      " * Running on http://127.0.0.1:7000/ (Press CTRL+C to quit)\n"
     ]
    }
   ],
   "source": [
    "# 수정\n",
    "result = {}\n",
    "app = Flask(__name__)\n",
    "CORS(app)\n",
    "\n",
    "# with open('dodam_model.pkl', 'rb') as f:\n",
    "#     model = pickle.load(f)\n",
    "    \n",
    "@app.route(\"/post2\",  methods=[\"POST\", \"GET\"])\n",
    "\n",
    "    \n",
    "def test():\n",
    "    if (request.method==\"POST\"):\n",
    "       \n",
    "        display(request.form)\n",
    "        m_id=request.form.get('m_id')\n",
    "        c_seq=request.form.get('c_seq')\n",
    "        d_title=request.form.get('d_title')\n",
    "        d_content=request.form.get('d_content')\n",
    "        d_msg=request.form.get('d_msg')\n",
    "        d_date=request.form.get('d_date')\n",
    "        \n",
    "        sql = '''insert into `t_diary` (m_id, c_seq, d_title, d_content, d_msg, d_date) \n",
    "values(%s, %s, %s, %s, %s, %s)'''\n",
    "        cursor.execute(sql , (m_id, c_seq, d_title, d_content, d_msg, d_date))\n",
    "        db.commit()\n",
    "        result = cursor.fetchall()\n",
    "        result\n",
    "        #텍스트마이닝 \n",
    "        result = request.form.get('d_content')\n",
    "        with open('dodam_cv.pkl', 'rb') as f:\n",
    "    # 정의된 모델 선언\n",
    "            cv = pickle.load(f)\n",
    "    # 사용자가 입력한 데이터를 모델이 읽을 수 있는 데이터로 변환\n",
    "            data_review = cv.transform([result])\n",
    "    # 예측 결과를 a에 담는다.\n",
    "            with open('dodam_lr.pkl','rb') as f1:\n",
    "                lr_model = pickle.load(f1)\n",
    "                pre = lr_model.predict_proba(data_review)\n",
    "                feel_list = ['기쁨','분노','불안','슬픔']\n",
    "                result_list = []\n",
    "                for i in range(len(feel_list)):\n",
    "                    result_list.append(pre[0][i])\n",
    "                    print(f\"{feel_list[i]} : {pre[0][i]}\")\n",
    "                e_joy = round((result_list[0]*100),2)\n",
    "                e_joy = e_joy.item()\n",
    "                e_sorrow = round((result_list[3]*100),2)\n",
    "                e_sorrow = e_sorrow.item()\n",
    "                print(e_sorrow)\n",
    "                print(type(e_sorrow))\n",
    "                e_anger = round((result_list[1]*100),2)\n",
    "                e_anger = e_anger.item()\n",
    "                e_unrest = round((result_list[2]*100),2)\n",
    "                e_unrest = e_unrest.item()\n",
    "                sql1 = '''insert into `t_emotion` (m_id, e_joy, e_sorrow, e_anger, e_unrest, d_date) \n",
    "values(%s, %s, %s, %s, %s, %s)'''\n",
    "                cursor.execute(sql1, (m_id, e_joy, e_sorrow, e_anger, e_unrest, d_date))\n",
    "                db.commit()\n",
    "                result1 = cursor.fetchall()\n",
    "                result1\n",
    "                print(pre[0])\n",
    "#         result = test()\n",
    "#         print(result)\n",
    "        result2 = str(\"%.2f%%\"%(pre[0][0]*100)) + \"<br>\" + str(feel_list[1])+\" : \"+str(\"%.2f%%\"%(pre[0][1]*100)) + \"<br>\"+str(feel_list[2])+\" : \"+str(\"%.2f%%\"%(pre[0][2]*100)) + \"<br>\"+str(feel_list[3])+\" : \"+str(\"%.2f%%\"%(pre[0][3]*100))\n",
    "        #return str(feel_list[0])+\" : \"\n",
    "#         return redirect(\"http://localhost:8089/dodam/diary.do?result2=\"+result2)\n",
    "        return redirect(\"http://18.237.195.243:8080/dodam/diary.do\")\n",
    "    \n",
    "    else:\n",
    "        \n",
    "        return \"NOT FOUND 404\"\n",
    "    \n",
    "#키 예측 모델 \n",
    "@app.route(\"/height\",  methods=[\"POST\", \"GET\"])\n",
    "def test2():\n",
    "    if (request.method==\"POST\"):\n",
    "\n",
    "        model = load_model('Height.h5')   \n",
    "        display(request.form)\n",
    "        input_height = request.form.get('height')\n",
    "        print(input_height)\n",
    "        result = height_predict(model, np.array([[input_height]]))\n",
    "        print(result)\n",
    "        tr = str(float(result[0][71])*100//1/100)\n",
    "        return redirect(\"http://localhost:8089/dodam/note.do?tr=\"+tr)\n",
    "    else:\n",
    "        return \"NOT FOUND 404\"\n",
    "\n",
    "    \n",
    "if __name__ == \"__main__\":\n",
    "    app.run(host = \"127.0.0.1\", port =7000)\n",
    "    # result = test()"
   ]
  },
  {
   "cell_type": "code",
   "execution_count": null,
   "id": "d3bcbb38",
   "metadata": {},
   "outputs": [],
   "source": []
  }
 ],
 "metadata": {
  "kernelspec": {
   "display_name": "Python 3 (ipykernel)",
   "language": "python",
   "name": "python3"
  },
  "language_info": {
   "codemirror_mode": {
    "name": "ipython",
    "version": 3
   },
   "file_extension": ".py",
   "mimetype": "text/x-python",
   "name": "python",
   "nbconvert_exporter": "python",
   "pygments_lexer": "ipython3",
   "version": "3.9.7"
  },
  "toc": {
   "base_numbering": 1,
   "nav_menu": {},
   "number_sections": true,
   "sideBar": true,
   "skip_h1_title": false,
   "title_cell": "Table of Contents",
   "title_sidebar": "Contents",
   "toc_cell": false,
   "toc_position": {},
   "toc_section_display": true,
   "toc_window_display": true
  }
 },
 "nbformat": 4,
 "nbformat_minor": 5
}
